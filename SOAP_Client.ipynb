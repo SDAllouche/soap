{
 "cells": [
  {
   "cell_type": "code",
   "execution_count": 9,
   "id": "669301f7",
   "metadata": {},
   "outputs": [],
   "source": [
    "import requests\n",
    "import xml.etree.ElementTree as ET"
   ]
  },
  {
   "cell_type": "code",
   "execution_count": 32,
   "id": "9e3895ab",
   "metadata": {},
   "outputs": [],
   "source": [
    "amount=\"100\"\n",
    "code=\"5\""
   ]
  },
  {
   "cell_type": "code",
   "execution_count": 40,
   "id": "46a1b70c",
   "metadata": {},
   "outputs": [],
   "source": [
    "url=\"http://localhost:9191/BanqueWS?wsdl\"\n",
    "\n",
    "convert =f\"\"\"<soapenv:Envelope xmlns:soapenv=\"http://schemas.xmlsoap.org/soap/envelope/\" xmlns:ws=\"http://ws.enset.ma/\">\n",
    "   <soapenv:Header/>\n",
    "   <soapenv:Body>\n",
    "      <ws:convert>\n",
    "         <montant>{amount}</montant>\n",
    "      </ws:convert>\n",
    "   </soapenv:Body>\n",
    "</soapenv:Envelope>\"\"\"\n",
    "\n",
    "getCompt =f\"\"\"<soapenv:Envelope xmlns:soapenv=\"http://schemas.xmlsoap.org/soap/envelope/\" xmlns:ws=\"http://ws.enset.ma/\">\n",
    "   <soapenv:Header/>\n",
    "   <soapenv:Body>\n",
    "      <ws:getCompt>\n",
    "         <code>{code}</code>\n",
    "      </ws:getCompt>\n",
    "   </soapenv:Body>\n",
    "</soapenv:Envelope>\"\"\"\n",
    "\n",
    "\n",
    "listCompt =f\"\"\"<soapenv:Envelope xmlns:soapenv=\"http://schemas.xmlsoap.org/soap/envelope/\" xmlns:ws=\"http://ws.enset.ma/\">\n",
    "   <soapenv:Header/>\n",
    "   <soapenv:Body>\n",
    "      <ws:compteList/>\n",
    "   </soapenv:Body>\n",
    "</soapenv:Envelope>\"\"\"\n",
    "\n",
    "options ={\"Content-Type\": \"text/xml; charset=utf-8\"}\n"
   ]
  },
  {
   "cell_type": "code",
   "execution_count": 33,
   "id": "36f7bba1",
   "metadata": {},
   "outputs": [
    {
     "name": "stdout",
     "output_type": "stream",
     "text": [
      "Converted Amount :  1108.0\n"
     ]
    }
   ],
   "source": [
    "response = requests. post (url, data = convert, headers = options)\n",
    "root= ET.fromstring(response.text)\n",
    "\n",
    "for child in root. iter(\"return\"):\n",
    "    print(\"Converted Amount : \",child. text)"
   ]
  },
  {
   "cell_type": "code",
   "execution_count": 48,
   "id": "3b71683c",
   "metadata": {},
   "outputs": [
    {
     "name": "stdout",
     "output_type": "stream",
     "text": [
      "Create Account :\n",
      "-Id :  5\n",
      "-Sold :  0.8794418000387976\n"
     ]
    }
   ],
   "source": [
    "response = requests. post (url, data = getCompt, headers = options)\n",
    "root= ET.fromstring(response.text)\n",
    "\n",
    "for child in root. iter(\"*\"):\n",
    "    if child.tag==\"id\":\n",
    "        print(\"Create Account :\")\n",
    "        print(\"-Id : \",child. text)\n",
    "    elif child.tag==\"solde\":\n",
    "        print(\"-Sold : \",child. text)"
   ]
  },
  {
   "cell_type": "code",
   "execution_count": 49,
   "id": "42f689f3",
   "metadata": {},
   "outputs": [
    {
     "name": "stdout",
     "output_type": "stream",
     "text": [
      "Account 1 :\n",
      "-Id :  1\n",
      "-Sold :  0.14358625516993673\n",
      "\n",
      "Account 2 :\n",
      "-Id :  2\n",
      "-Sold :  0.9496026175899851\n",
      "\n",
      "Account 3 :\n",
      "-Id :  3\n",
      "-Sold :  0.41711464074306315\n",
      "\n"
     ]
    }
   ],
   "source": [
    "response = requests. post (url, data = listCompt, headers = options)\n",
    "root= ET.fromstring(response.text)\n",
    "\n",
    "for child in root. iter(\"*\"):\n",
    "    if child.tag==\"id\":\n",
    "        print(f\"Account {child. text} :\")\n",
    "        print(\"-Id : \",child. text)\n",
    "    elif child.tag==\"solde\":\n",
    "        print(\"-Sold : \",child. text)\n",
    "        print()"
   ]
  },
  {
   "cell_type": "code",
   "execution_count": null,
   "id": "0edd0b22",
   "metadata": {},
   "outputs": [],
   "source": []
  }
 ],
 "metadata": {
  "kernelspec": {
   "display_name": "Python 3 (ipykernel)",
   "language": "python",
   "name": "python3"
  },
  "language_info": {
   "codemirror_mode": {
    "name": "ipython",
    "version": 3
   },
   "file_extension": ".py",
   "mimetype": "text/x-python",
   "name": "python",
   "nbconvert_exporter": "python",
   "pygments_lexer": "ipython3",
   "version": "3.9.7"
  }
 },
 "nbformat": 4,
 "nbformat_minor": 5
}
